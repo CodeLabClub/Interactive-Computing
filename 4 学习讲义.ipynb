{
 "cells": [
  {
   "cell_type": "markdown",
   "id": "another-boundary",
   "metadata": {},
   "source": [
    "# 4. 动画制作\n",
    "## 学习目标\n",
    "- 编程知识：条件判断、比较运算符\n",
    "- 主题创作：制作跳舞和走路动画\n",
    "- 在创作中实践“试验和迭代”、“测试和调试”"
   ]
  },
  {
   "cell_type": "markdown",
   "id": "therapeutic-hearing",
   "metadata": {},
   "source": [
    "## 编程准备\n",
    "打开[课程视频](https://www.bilibili.com/video/BV1SN411Z7ek?p=6)和 [Scratch 创作](https://create.codelab.club/projects/editor/)页面，登陆自己的 CodeLab 账号，这样 Scratch 作品可以及时保存。\n",
    "\n",
    "#### 编程相关单词\n",
    "- true：[truː]，真实的、正确的\n",
    "- false：[fɔːls]，错误的、假的\n",
    "- none：[nʌn]，没有的、一个也没有"
   ]
  },
  {
   "cell_type": "markdown",
   "id": "sharing-earthquake",
   "metadata": {},
   "source": [
    "## 跳舞\n",
    "体验[表情动画](https://create.codelab.club/projects/6744/editor/)项目，了解动画是如何制作的。打开[【交互计算】跳舞模版](https://create.codelab.club/projects/11005/editor/)项目，先体验使用按键控制火柴人跳舞，然后观看视频[动画制作 1](https://www.bilibili.com/video/BV1SN411Z7ek?p=6)，改编项目，实现从 Python 发送跳舞指令来制作跳舞动画。"
   ]
  },
  {
   "cell_type": "code",
   "execution_count": null,
   "id": "preliminary-lending",
   "metadata": {},
   "outputs": [],
   "source": [
    "from codelab_adapter_client.message import send_message\n",
    "\n"
   ]
  },
  {
   "cell_type": "markdown",
   "id": "fossil-metabolism",
   "metadata": {},
   "source": [
    "编写一小段跳舞指令，然后组合这些指令，形成更丰富的舞蹈动作。"
   ]
  },
  {
   "cell_type": "code",
   "execution_count": null,
   "id": "flying-wireless",
   "metadata": {},
   "outputs": [],
   "source": [
    "from codelab_adapter_client.message import send_message\n",
    "\n"
   ]
  },
  {
   "cell_type": "markdown",
   "id": "conceptual-nashville",
   "metadata": {},
   "source": [
    "运行以下程序，了解 random.choice() 的功能，然后使用它来生成随机舞步。"
   ]
  },
  {
   "cell_type": "code",
   "execution_count": null,
   "id": "fitting-china",
   "metadata": {},
   "outputs": [],
   "source": [
    "# random.choice() 可以从列表中随机选择一个元素\n",
    "import random\n",
    "\n",
    "a = [1, 2, 3]\n",
    "random.choice(a)"
   ]
  },
  {
   "cell_type": "code",
   "execution_count": null,
   "id": "mature-highland",
   "metadata": {},
   "outputs": [],
   "source": [
    "from codelab_adapter_client.message import send_message\n",
    "\n"
   ]
  },
  {
   "cell_type": "markdown",
   "id": "organized-cancer",
   "metadata": {},
   "source": [
    "## 走路\n",
    "体验项目 [Pico 和 Dot 散步](https://create.codelab.club/projects/6745/editor/)，了解如何制作走路动画。"
   ]
  },
  {
   "cell_type": "markdown",
   "id": "editorial-palestine",
   "metadata": {
    "tags": []
   },
   "source": [
    "### 编程百科\n",
    "观看视频[动画制作 2](https://www.bilibili.com/video/BV1SN411Z7ek?p=7)，了解条件判断和比较运算符的知识，并猜测以下程序的运行结果。"
   ]
  },
  {
   "cell_type": "code",
   "execution_count": null,
   "id": "premier-suggestion",
   "metadata": {},
   "outputs": [],
   "source": [
    "a = 3\n",
    "b = 6\n",
    "if a - 3 :\n",
    "    print(2333)\n",
    "if a != b:\n",
    "    print(666)"
   ]
  },
  {
   "cell_type": "markdown",
   "id": "usual-inspector",
   "metadata": {},
   "source": [
    "### 发送移动指令\n",
    "给项目[【交互计算】走路](https://create.codelab.club/projects/8803/editor)发送移动指令，让 Pico 可以前后移动，并形成有节奏的走路动画。"
   ]
  },
  {
   "cell_type": "code",
   "execution_count": null,
   "id": "whole-manual",
   "metadata": {},
   "outputs": [],
   "source": [
    "from codelab_adapter_client.message import send_message\n",
    "\n"
   ]
  },
  {
   "cell_type": "markdown",
   "id": "detected-berkeley",
   "metadata": {},
   "source": [
    "## 拓展\n",
    "发挥自己的想象，进一步拓展动画项目，并将作品分享到[【交互计算】动画制作](https://create.codelab.club/studios/414)工作室，看看工作室中其他人创作的作品。\n",
    "1. 在项目[【交互计算】跳舞](https://create.codelab.club/projects/8875/editor/)的基础上设计新的跳舞造型，然后编写新的舞蹈。\n",
    "\n",
    "2. 体验项目[【交互计算】走路](https://create.codelab.club/projects/8803/editor/)中 Hatchling 角色的动画（按 1、3 键），制作一个时光倒流的动画。"
   ]
  }
 ],
 "metadata": {
  "kernelspec": {
   "display_name": "Python 3",
   "language": "python",
   "name": "python3"
  },
  "language_info": {
   "codemirror_mode": {
    "name": "ipython",
    "version": 3
   },
   "file_extension": ".py",
   "mimetype": "text/x-python",
   "name": "python",
   "nbconvert_exporter": "python",
   "pygments_lexer": "ipython3",
   "version": "3.8.7"
  }
 },
 "nbformat": 4,
 "nbformat_minor": 5
}
