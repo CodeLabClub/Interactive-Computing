{
 "cells": [
  {
   "cell_type": "markdown",
   "id": "wrong-reverse",
   "metadata": {},
   "source": [
    "# 5. 文字游戏\n",
    "## 学习目标\n",
    "- 编程知识：while 循环、字符串运算、字典\n",
    "- 主题创作：制作复读机和记单词项目\n",
    "- 在创作中实践“试验和迭代”、“测试和调试”"
   ]
  },
  {
   "cell_type": "markdown",
   "id": "optimum-validation",
   "metadata": {},
   "source": [
    "## 编程准备\n",
    "打开[课程视频](https://www.bilibili.com/video/BV1SN411Z7ek?p=8)和 [Scratch 创作](https://create.codelab.club/projects/editor/)页面，登陆自己的 CodeLab 账号，这样 Scratch 作品可以及时保存。\n",
    "\n",
    "#### 编程相关单词\n",
    "- receive：[rɪˈsiːv]，收到、接收\n",
    "- break：[breɪk]，打断、终止\n",
    "- dictionary：[ˈdɪkʃəneri]，字典、词典"
   ]
  },
  {
   "cell_type": "markdown",
   "id": "chronic-shark",
   "metadata": {},
   "source": [
    "## 复读机\n",
    "观看视频[文字游戏 1](https://www.bilibili.com/video/BV1SN411Z7ek?p=8)，了解 while 循环和字符串运算，并使用 while 循环实现以下程序的相同功能。"
   ]
  },
  {
   "cell_type": "code",
   "execution_count": null,
   "id": "apparent-madness",
   "metadata": {},
   "outputs": [],
   "source": [
    "a = '1'\n",
    "for i in range(2, 10):\n",
    "    a += str(i) # str() 可以将数字转换成字符串\n",
    "print(a)"
   ]
  },
  {
   "cell_type": "markdown",
   "id": "beneficial-silicon",
   "metadata": {},
   "source": [
    "创作复读机项目，并编写 Python 程序让它可以接收和发送消息。"
   ]
  },
  {
   "cell_type": "code",
   "execution_count": null,
   "id": "photographic-single",
   "metadata": {},
   "outputs": [],
   "source": [
    "from codelab_adapter_client.message import send_message, receive_message\n",
    "\n"
   ]
  },
  {
   "cell_type": "markdown",
   "id": "honey-peoples",
   "metadata": {},
   "source": [
    "## 记单词\n",
    "观看视频[文字游戏 2](https://www.bilibili.com/video/BV1SN411Z7ek?p=9)，改编项目[【交互计算】记单词模版](https://create.codelab.club/projects/11061/)，并编写 Python 程序，实现记单词的功能。"
   ]
  },
  {
   "cell_type": "code",
   "execution_count": null,
   "id": "perceived-authentication",
   "metadata": {},
   "outputs": [],
   "source": [
    "from codelab_adapter_client.message import send_message, receive_message\n",
    "\n"
   ]
  },
  {
   "cell_type": "markdown",
   "id": "sealed-tablet",
   "metadata": {},
   "source": [
    "## 拓展\n",
    "发挥自己的想象，进一步拓展文字游戏的项目，并将作品分享到[【交互计算】文字游戏](https://create.codelab.club/studios/417/)工作室，看看工作室中其他人创作的作品。\n",
    "1. 使用语音识别插件给项目[【交互计算】复读机](https://create.codelab.club/projects/8897/editor)添加语音识别的功能，即通过语音输入你想说的话。\n",
    "\n",
    "2. 制作一个自己的字典，比如网络流行语、宝可梦百科，并且结合 Scratch 呈现出来。"
   ]
  }
 ],
 "metadata": {
  "kernelspec": {
   "display_name": "Python 3",
   "language": "python",
   "name": "python3"
  },
  "language_info": {
   "codemirror_mode": {
    "name": "ipython",
    "version": 3
   },
   "file_extension": ".py",
   "mimetype": "text/x-python",
   "name": "python",
   "nbconvert_exporter": "python",
   "pygments_lexer": "ipython3",
   "version": "3.8.7"
  }
 },
 "nbformat": 4,
 "nbformat_minor": 5
}
