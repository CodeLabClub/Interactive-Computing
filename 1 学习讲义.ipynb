{
 "cells": [
  {
   "cell_type": "markdown",
   "id": "formal-think",
   "metadata": {},
   "source": [
    "# 1. 编程准备\n",
    "## 学习目标\n",
    "1. 设置编程环境\n",
    "2. 设计第一个项目\n",
    "3. 认识字符串、变量、注释和 EIM 消息传递插件"
   ]
  },
  {
   "cell_type": "markdown",
   "id": "prostate-street",
   "metadata": {},
   "source": [
    "## 编程准备\n",
    "打开[课程视频](https://www.bilibili.com/video/BV1SN411Z7ek?p=2)和 [Scratch 创作](https://create.codelab.club/projects/editor/)页面，登陆自己的 CodeLab 账号，这样 Scratch 作品可以及时保存。"
   ]
  },
  {
   "cell_type": "markdown",
   "id": "racial-colorado",
   "metadata": {},
   "source": [
    "#### 编程相关单词\n",
    "- print：[prɪnt]，打印、印刷\n",
    "- client：[ˈklaɪənt]，客户端、客户\n",
    "- string：[strɪŋ]，字符串、一串\n",
    "- import：[ˈɪmpɔːrt]，导入、进口\n",
    "- send：[send]，发送、发射\n",
    "- message：[ˈmesɪdʒ]，消息、信息\n"
   ]
  },
  {
   "cell_type": "markdown",
   "id": "missing-kruger",
   "metadata": {},
   "source": [
    "## 设置编程环境\n",
    "观看视频[编程准备](https://www.bilibili.com/video/BV1SN411Z7ek?p=2)，下载并安装 CodeLab Adapter，然后打开 Adapter 进入 JupyterLab 编程环境。"
   ]
  },
  {
   "cell_type": "markdown",
   "id": "median-robertson",
   "metadata": {},
   "source": [
    "## Hello World\n",
    "开始创作第一个项目吧，先选中以下单元格，按 Shift + Enter 键运行以下单元格看看会发生什么。"
   ]
  },
  {
   "cell_type": "code",
   "execution_count": null,
   "id": "upset-crack",
   "metadata": {},
   "outputs": [],
   "source": [
    "print('Hello World')"
   ]
  },
  {
   "cell_type": "markdown",
   "id": "super-function",
   "metadata": {},
   "source": [
    "观看课程视频，了解字符串的编程知识。"
   ]
  },
  {
   "cell_type": "markdown",
   "id": "advance-pavilion",
   "metadata": {},
   "source": [
    "### EIM 消息传递插件\n",
    "打开 [Scratch 创作](https://create.codelab.club/projects/editor/)页面，加载 EIM 消息传递插件，了解它的使用方法，并向 Scratch 发送一条消息。"
   ]
  },
  {
   "cell_type": "code",
   "execution_count": null,
   "id": "mexican-albany",
   "metadata": {},
   "outputs": [],
   "source": [
    "# 从 Python 第三方库 codelab_adapter_client 中导入 send_message\n",
    "from codelab_adapter_client.message import send_message\n",
    "\n",
    "# 向 Scratch 发送一个 Hello World 的消息\n"
   ]
  },
  {
   "cell_type": "markdown",
   "id": "strategic-habitat",
   "metadata": {},
   "source": [
    "打开 [【交互计算】Hello World](https://create.codelab.club/projects/7523/editor/) 项目，看看如何制作说话的动画。"
   ]
  },
  {
   "cell_type": "markdown",
   "id": "representative-trout",
   "metadata": {},
   "source": [
    "试一试将 Hello World 改成你想说的话。运行以下报菜名程序，看看效果怎么样？"
   ]
  },
  {
   "cell_type": "code",
   "execution_count": null,
   "id": "incredible-input",
   "metadata": {},
   "outputs": [],
   "source": [
    "from codelab_adapter_client.message import send_message\n",
    "\n",
    "# 多行字符串用 3 个单引号或双引号括起来\n",
    "food = '''蒸羊羔、蒸熊掌、蒸鹿尾儿、烧花鸭、烧雏鸡、烧子鹅、卤猪、\n",
    "卤鸭、酱鸡、腊肉、松花小肚儿、晾肉、香肠儿、什锦苏盘、熏鸡白肚儿、\n",
    "清蒸八宝猪、江米酿鸭子、罐儿野鸡、罐儿鹌鹑、卤什件儿、卤子鹅'''\n",
    "send_message(food)"
   ]
  },
  {
   "cell_type": "markdown",
   "id": "authorized-ceramic",
   "metadata": {},
   "source": [
    "观看课程视频，了解变量的概念。"
   ]
  },
  {
   "cell_type": "markdown",
   "id": "sunset-eight",
   "metadata": {},
   "source": [
    "## JupyterLab 快捷键\n",
    "使用快捷键可以更方便地操作单元格，使用快捷键时，先点击选中单元格，以下为 JupyterLab 中部分常用的快捷键：\n",
    "- A：在选中单元格的上方插入新单元格\n",
    "- B：在选中单元格的下方插入新单元格\n",
    "- D，D：按两次 D 键删除单元格\n",
    "- Shift + Enter：运行单元格\n",
    "- M：进入文本编辑模式\n",
    "- Y：进入代码编辑模式\n",
    "\n",
    "现在练习一下这些快捷键吧！"
   ]
  },
  {
   "cell_type": "markdown",
   "id": "handmade-floating",
   "metadata": {},
   "source": [
    "### 拓展"
   ]
  },
  {
   "cell_type": "markdown",
   "id": "banned-graph",
   "metadata": {},
   "source": [
    "1. 探索 JupyterLab 的菜单栏，尝试单元格快捷键，并试试修改 JupyterLab 的主题。\n",
    "\n",
    "2. 让小猫报出你喜欢的事物，如食物、电影、动画。"
   ]
  }
 ],
 "metadata": {
  "kernelspec": {
   "display_name": "Python 3",
   "language": "python",
   "name": "python3"
  },
  "language_info": {
   "codemirror_mode": {
    "name": "ipython",
    "version": 3
   },
   "file_extension": ".py",
   "mimetype": "text/x-python",
   "name": "python",
   "nbconvert_exporter": "python",
   "pygments_lexer": "ipython3",
   "version": "3.8.7"
  }
 },
 "nbformat": 4,
 "nbformat_minor": 5
}
