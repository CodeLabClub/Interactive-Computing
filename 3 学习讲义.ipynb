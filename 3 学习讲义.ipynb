{
 "cells": [
  {
   "cell_type": "markdown",
   "id": "valuable-casting",
   "metadata": {},
   "source": [
    "# 3. 音乐创作\n",
    "## 学习目标\n",
    "- 编程知识：列表（创建列表、获取列表元素）、for 循环（遍历列表、range()）\n",
    "- 主题创作：制作《小星星》，自主创作音乐\n",
    "- 在创作中实践“试验和迭代”、“测试和调试”"
   ]
  },
  {
   "cell_type": "markdown",
   "id": "virgin-dinner",
   "metadata": {},
   "source": [
    "## 编程准备\n",
    "打开[课程视频](https://www.bilibili.com/video/BV1SN411Z7ek?p=4)和 [Scratch 创作](https://create.codelab.club/projects/editor/)页面，登陆自己的 CodeLab 账号，这样 Scratch 作品可以及时保存。\n",
    "\n",
    "#### 编程相关单词\n",
    "- note：[noʊt]，音符、笔记\n",
    "- list：[lɪst]，列表、清单\n",
    "- random：[ˈrændəm]，随机的、任意的\n",
    "- range：[reɪndʒ]，范围、幅度"
   ]
  },
  {
   "cell_type": "markdown",
   "id": "unavailable-actress",
   "metadata": {},
   "source": [
    "## 音乐播放器\n",
    "观看视频[音乐创作 1](https://www.bilibili.com/video/BV1SN411Z7ek?p=4)，体验[《小星星》](https://create.codelab.club/projects/6385/editor/)项目，了解如何制作音乐。"
   ]
  },
  {
   "cell_type": "markdown",
   "id": "determined-angola",
   "metadata": {
    "tags": []
   },
   "source": [
    "### 编程百科\n",
    "#### 创建列表\n",
    "如果想了解 Scratch 中的列表，可以观看[这个视频](https://www.bilibili.com/video/BV1jT4y1K7iA?p=20)。尝试创建一个列表，并打印出来。"
   ]
  },
  {
   "cell_type": "code",
   "execution_count": null,
   "id": "specialized-hamilton",
   "metadata": {},
   "outputs": [],
   "source": []
  },
  {
   "cell_type": "markdown",
   "id": "million-relative",
   "metadata": {},
   "source": [
    "#### 获取列表元素\n",
    "编写程序，创建一个列表，并获取其中的元素。"
   ]
  },
  {
   "cell_type": "code",
   "execution_count": null,
   "id": "vocational-reduction",
   "metadata": {},
   "outputs": [],
   "source": []
  },
  {
   "cell_type": "markdown",
   "id": "veterinary-genealogy",
   "metadata": {},
   "source": [
    "#### for 循环\n",
    "编写程序，使用 for 循环来获取列表中的每个元素，并打印出来。"
   ]
  },
  {
   "cell_type": "code",
   "execution_count": null,
   "id": "alike-marijuana",
   "metadata": {},
   "outputs": [],
   "source": []
  },
  {
   "cell_type": "markdown",
   "id": "complicated-blocking",
   "metadata": {},
   "source": [
    "### 发送简谱\n",
    "打开 Scratch 作品[音乐播放器](https://create.codelab.club/projects/8895/editor)，编写 Python 程序，发送小星星的简谱。"
   ]
  },
  {
   "cell_type": "code",
   "execution_count": null,
   "id": "greater-batman",
   "metadata": {},
   "outputs": [],
   "source": [
    "# 从 Adapter 库中导入 send_message\n",
    "from codelab_adapter_client.message import send_message\n",
    "\n",
    "\n"
   ]
  },
  {
   "cell_type": "markdown",
   "id": "emotional-content",
   "metadata": {},
   "source": [
    "列表 song2 是《欢乐颂》的简谱，编写程序，试着把它播放出来吧！"
   ]
  },
  {
   "cell_type": "code",
   "execution_count": null,
   "id": "impressive-bikini",
   "metadata": {},
   "outputs": [],
   "source": [
    "# 《欢乐颂》简谱\n",
    "song2 = [3, 3, 4, 5, 5, 4, 3, 2, 1, 1, 2, 3, 3, 2, 2, 0,\n",
    "         3, 3, 4, 5, 5, 4, 3, 2, 1, 1, 2, 3, 2, 1, 1, 0,\n",
    "         2, 2, 3, 1, 2, 4, 3, 1, 2, 4, 3, 2, 1, 2, 5, 0,\n",
    "         3, 3, 4, 5, 5, 4, 3, 2, 1, 1, 2, 3, 2, 1, 1, 0]"
   ]
  },
  {
   "cell_type": "markdown",
   "id": "interracial-protection",
   "metadata": {},
   "source": [
    "## 随机音乐\n",
    "观看视频[音乐创作 2](https://www.bilibili.com/video/BV1SN411Z7ek?p=5)，多运行几次以下代码，了解如何随机生成整数。"
   ]
  },
  {
   "cell_type": "code",
   "execution_count": null,
   "id": "binary-moisture",
   "metadata": {},
   "outputs": [],
   "source": [
    "# 导入随机库\n",
    "import random\n",
    "\n",
    "# 从 1-7 中随机生成一个整数 \n",
    "a = random.randint(1, 7) \n",
    "print(a)"
   ]
  },
  {
   "cell_type": "markdown",
   "id": "voluntary-round",
   "metadata": {},
   "source": [
    "了解 for 循环如何让一段程序运行特定次数。修改程序中 range() 中的数字，看看会发生什么变化。"
   ]
  },
  {
   "cell_type": "code",
   "execution_count": null,
   "id": "engaging-broadway",
   "metadata": {},
   "outputs": [],
   "source": [
    "# for 循环示例\n",
    "for i in range(1, 6, 3):\n",
    "    print(i)"
   ]
  },
  {
   "cell_type": "markdown",
   "id": "ranging-funeral",
   "metadata": {},
   "source": [
    "编写程序发送随机音符。"
   ]
  },
  {
   "cell_type": "code",
   "execution_count": null,
   "id": "spectacular-prototype",
   "metadata": {},
   "outputs": [],
   "source": [
    "from codelab_adapter_client.message import send_message\n",
    "\n",
    "\n",
    "\n"
   ]
  },
  {
   "cell_type": "markdown",
   "id": "grand-period",
   "metadata": {},
   "source": [
    "## 创作音乐\n",
    "先从编写一个音乐片段开始，再组合成更长的音乐旋律，或者改编一段熟悉的旋律，来试试吧！"
   ]
  },
  {
   "cell_type": "code",
   "execution_count": null,
   "id": "compound-uniform",
   "metadata": {},
   "outputs": [],
   "source": [
    "from codelab_adapter_client.message import send_message\n",
    "\n",
    "'''\n",
    "《小星星》简谱\n",
    "1, 1, 5, 5, 6, 6, 5, 0\n",
    "4, 4, 3, 3, 2, 2, 1, 0\n",
    "5, 5, 4, 4, 3, 3, 2, 0\n",
    "5, 5, 4, 4, 3, 3, 2, 0\n",
    "1, 1, 5, 5, 6, 6, 5, 0 \n",
    "4, 4, 3, 3, 2, 2, 1, 0\n",
    "'''\n",
    "\n",
    "# 先编写一个音乐片段，你可以从改编《小星星》开始\n",
    "p1 = [2, 2, 5, 5, 6, 6, 5, 0]"
   ]
  },
  {
   "cell_type": "markdown",
   "id": "sexual-requirement",
   "metadata": {},
   "source": [
    "## 拓展\n",
    "发挥自己的想象，进一步拓展音乐项目，并将作品分享到[【交互计算】音乐创作](https://create.codelab.club/studios/411/)工作室，看看工作室中其他人创作的作品。\n",
    "1. 用数字代表架子鼓的不同声音，发送一串数字打架子鼓，可以参考或改编项目 [Makey Makey 架子鼓](https://create.codelab.club/projects/9015/)。\n",
    "\n",
    "2. 让角色对不同声音有不同的反应，可以参考或改编项目[【组建乐队】键盘](https://create.codelab.club/projects/10634/)。"
   ]
  }
 ],
 "metadata": {
  "kernelspec": {
   "display_name": "Python 3",
   "language": "python",
   "name": "python3"
  },
  "language_info": {
   "codemirror_mode": {
    "name": "ipython",
    "version": 3
   },
   "file_extension": ".py",
   "mimetype": "text/x-python",
   "name": "python",
   "nbconvert_exporter": "python",
   "pygments_lexer": "ipython3",
   "version": "3.8.7"
  }
 },
 "nbformat": 4,
 "nbformat_minor": 5
}
