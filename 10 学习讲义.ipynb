{
 "cells": [
  {
   "cell_type": "markdown",
   "id": "undefined-humanity",
   "metadata": {},
   "source": [
    "# 10. 综合应用\n",
    "## 学习目标\n",
    "- 编程知识：综合运用之前所学知识\n",
    "- 主题创作：了解物理引擎，设计游戏关卡\n",
    "- 学习总结：总结之前所学内容，了解进一步学习的资源"
   ]
  },
  {
   "cell_type": "markdown",
   "id": "equipped-blake",
   "metadata": {},
   "source": [
    "## 编程准备\n",
    "打开[课程视频](https://www.bilibili.com/video/BV1SN411Z7ek?p=18)和 [Scratch 创作](https://create.codelab.club/projects/editor/)页面，登陆自己的 CodeLab 账号，这样 Scratch 作品可以及时保存。\n",
    "\n",
    "#### 编程相关单词\n",
    "- remove：[rɪˈmuːv]，去除、移开\n",
    "- length：[leŋkθ]，长度\n",
    "- cookbook：[ˈkʊkbʊk]，食谱"
   ]
  },
  {
   "cell_type": "markdown",
   "id": "greatest-conversation",
   "metadata": {},
   "source": [
    "## 设计游戏关卡\n",
    "观看视频[综合应用 1](https://www.bilibili.com/video/BV1SN411Z7ek?p=18)，体验项目[【交互设计】设计游戏关卡模版](https://create.codelab.club/projects/10664/editor/)，了解物理引擎插件和游戏的积木。并对此项目进行改编，添加设计关卡和加载关卡的功能。"
   ]
  },
  {
   "cell_type": "code",
   "execution_count": null,
   "id": "overhead-importance",
   "metadata": {},
   "outputs": [],
   "source": [
    "from codelab_adapter_client.message import send_message, receive_message\n",
    "\n"
   ]
  },
  {
   "cell_type": "markdown",
   "id": "naval-adaptation",
   "metadata": {},
   "source": [
    "## 学习总结\n",
    "观看视频[综合应用 2](https://www.bilibili.com/video/BV1SN411Z7ek?p=19)，回顾学习【交互计算】课程的过程，总结所学到的内容：\n",
    "\n",
    "**Python 知识**\n",
    "\n",
    "- \n",
    "- \n",
    "- \n",
    "- \n",
    "- \n",
    "\n",
    "**主题创作**\n",
    "\n",
    "- \n",
    "- \n",
    "- \n",
    "- \n",
    "- \n",
    "\n",
    "\n",
    "**其他**\n",
    "\n",
    "- \n",
    "- \n",
    "- \n",
    "\n",
    "**下一步**\n",
    "\n",
    "你还有什么想了解的？\n",
    "\n",
    "- \n",
    "- \n",
    "- \n",
    "\n",
    "**进阶学习资源**\n",
    "\n",
    "如果想了解更多 Python 语法的知识，可以看看这些学习资源：\n",
    "- [Python 简明教程](https://learnku.com/docs/byte-of-python/2018)\n",
    "- [Think Python](https://think-py.apachecn.org/)\n",
    "- [Python 最佳实践指南](https://pythonguidecn.readthedocs.io/zh/latest/)\n",
    "- [Python Cookbook](https://python3-cookbook.readthedocs.io/zh_CN/latest/preface.html)\n",
    "- [Python 官方文档](https://docs.python.org/zh-cn/3/)"
   ]
  },
  {
   "cell_type": "markdown",
   "id": "pretty-twenty",
   "metadata": {},
   "source": [
    "## 拓展\n",
    "发挥自己的想象，根据自己的兴趣自由创作一个项目，并将作品分享到[【交互计算】综合应用](https://create.codelab.club/studios/426/)工作室，看看工作室中其他人创作的作品。"
   ]
  }
 ],
 "metadata": {
  "kernelspec": {
   "display_name": "Python 3",
   "language": "python",
   "name": "python3"
  },
  "language_info": {
   "codemirror_mode": {
    "name": "ipython",
    "version": 3
   },
   "file_extension": ".py",
   "mimetype": "text/x-python",
   "name": "python",
   "nbconvert_exporter": "python",
   "pygments_lexer": "ipython3",
   "version": "3.8.7"
  }
 },
 "nbformat": 4,
 "nbformat_minor": 5
}
