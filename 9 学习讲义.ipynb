{
 "cells": [
  {
   "cell_type": "markdown",
   "id": "imposed-significance",
   "metadata": {},
   "source": [
    "# 9. 聊天机器人\n",
    "## 学习目标\n",
    "- 编程知识：类与对象的创建、类的继承\n",
    "- 主题创作：制作简单聊天机器人，训练聊天机器人\n",
    "- 在创作中实践“试验和迭代”、“测试和调试”"
   ]
  },
  {
   "cell_type": "markdown",
   "id": "african-finding",
   "metadata": {},
   "source": [
    "## 编程准备\n",
    "打开[课程视频](https://www.bilibili.com/video/BV1SN411Z7ek?p=16)和 [Scratch 创作](https://create.codelab.club/projects/editor/)页面，登陆自己的 CodeLab 账号，这样 Scratch 作品可以及时保存。\n",
    "\n",
    "#### 编程相关单词\n",
    "- chatbot：[ˈtʃætˌbɒt]，聊天机器人\n",
    "- response：[rɪˈspɑːns]，响应、回答\n",
    "- input：[ˈɪnpʊt]，输入、投入\n",
    "- object：[ˈɑːbdʒekt]，对象、物体\n",
    "- class：[klæs]，类、等级\n",
    "- install：[ɪnˈstɔːl]，安装、任命\n",
    "- respond：[rɪˈspɑːnd]，回答、作出反应\n",
    "- load：[loʊd]，加载、装载"
   ]
  },
  {
   "cell_type": "markdown",
   "id": "complimentary-webcam",
   "metadata": {},
   "source": [
    "## 简单聊天机器人\n",
    "Eliza 是 MIT 人工智能实验室在 1964-1966 年开发的世界上第一个聊天机器人，运行以下代码，先和她聊一聊吧，目前只支持英文。"
   ]
  },
  {
   "cell_type": "code",
   "execution_count": null,
   "id": "curious-processing",
   "metadata": {},
   "outputs": [],
   "source": [
    "from IPython.display import IFrame\n",
    "\n",
    "IFrame('http://psych.fullerton.edu/mbirnbaum/psych101/Eliza.htm', width=\"100%\", height=500)"
   ]
  },
  {
   "cell_type": "markdown",
   "id": "portable-assistant",
   "metadata": {},
   "source": [
    "观看视频[聊天机器人 1](https://www.bilibili.com/video/BV1SN411Z7ek?p=16)，制作一个有简单回复功能的聊天机器人。"
   ]
  },
  {
   "cell_type": "code",
   "execution_count": null,
   "id": "thorough-focus",
   "metadata": {},
   "outputs": [],
   "source": []
  },
  {
   "cell_type": "markdown",
   "id": "certain-domestic",
   "metadata": {},
   "source": [
    "了解类和对象的创建和类的继承，将聊天机器人用对象表示。"
   ]
  },
  {
   "cell_type": "code",
   "execution_count": null,
   "id": "intensive-bonus",
   "metadata": {},
   "outputs": [],
   "source": []
  },
  {
   "cell_type": "markdown",
   "id": "swedish-chester",
   "metadata": {},
   "source": [
    "## 训练聊天机器人\n",
    "先运行以下单元格安装 python-aiml 库。**注意**：Adapter 4.8.1 以上的版本已内置 python-aiml 库，不需要再次安装。"
   ]
  },
  {
   "cell_type": "code",
   "execution_count": null,
   "id": "graphic-preservation",
   "metadata": {},
   "outputs": [],
   "source": [
    "# 安装 python-aiml 库\n",
    "import pip\n",
    "\n",
    "pip.main([\"install\", \"python-aiml\"])"
   ]
  },
  {
   "cell_type": "markdown",
   "id": "suspected-threshold",
   "metadata": {},
   "source": [
    "获取当前目录的绝对路径，训练聊天机器人时会用到。"
   ]
  },
  {
   "cell_type": "code",
   "execution_count": null,
   "id": "sitting-immigration",
   "metadata": {},
   "outputs": [],
   "source": [
    "import os\n",
    "\n",
    "# 获取当前目录的路径\n",
    "os.getcwd()"
   ]
  },
  {
   "cell_type": "markdown",
   "id": "sealed-artist",
   "metadata": {},
   "source": [
    "观看视频[聊天机器人 2](https://www.bilibili.com/video/BV1SN411Z7ek?p=17)，编写程序使用 python-aiml 库自带的语料库训练一个聊天机器人。"
   ]
  },
  {
   "cell_type": "code",
   "execution_count": null,
   "id": "awful-matrix",
   "metadata": {},
   "outputs": [],
   "source": [
    "import aiml\n",
    "\n"
   ]
  },
  {
   "cell_type": "markdown",
   "id": "israeli-exchange",
   "metadata": {},
   "source": [
    "使用 Python 编程创建聊天机器人对象，并让它和[【交互计算】聊天机器人](https://create.codelab.club/projects/9749/editor/)项目互动。"
   ]
  },
  {
   "cell_type": "code",
   "execution_count": null,
   "id": "presidential-transmission",
   "metadata": {},
   "outputs": [],
   "source": [
    "from codelab_adapter_client.message import send_message, receive_message\n",
    "\n"
   ]
  },
  {
   "cell_type": "markdown",
   "id": "proud-lingerie",
   "metadata": {},
   "source": [
    "### 个性化聊天机器人\n",
    "设计自己的语料库，并使用它训练个性化的聊天机器人。"
   ]
  },
  {
   "cell_type": "markdown",
   "id": "appointed-donna",
   "metadata": {},
   "source": [
    "新建启动文件："
   ]
  },
  {
   "cell_type": "code",
   "execution_count": null,
   "id": "recorded-immigration",
   "metadata": {},
   "outputs": [],
   "source": [
    "<aiml version=\"1.0\">\n",
    "\n",
    "<category>\n",
    "<pattern>LOAD JACK</pattern>\n",
    "<template>\n",
    "\n",
    "<!-- Load JACK AIML set -->\n",
    "<learn>jack.aiml</learn>\n",
    "\n",
    "</template>\n",
    "</category>\n",
    "\n",
    "</aiml>"
   ]
  },
  {
   "cell_type": "markdown",
   "id": "continent-beauty",
   "metadata": {},
   "source": [
    "设计语料库："
   ]
  },
  {
   "cell_type": "code",
   "execution_count": null,
   "id": "neutral-convention",
   "metadata": {},
   "outputs": [],
   "source": [
    "<aiml version=\"1.0.1\" encoding=\"UTF-8\">\n",
    "<!-- jack.aiml -->\n",
    "    <category>\n",
    "        <pattern>HELLO</pattern>\n",
    "        <template>Hello, I'm Jack</template>\n",
    "    </category>\n",
    "    <category>\n",
    "        <pattern>HOW OLD ARE YOU</pattern>\n",
    "        <template>I'm 16.</template>\n",
    "    </category>\n",
    "    <category>\n",
    "        <pattern>你心情怎么样</pattern>\n",
    "        <template>我心情不错</template>\n",
    "    </category>    \n",
    "</aiml>"
   ]
  },
  {
   "cell_type": "markdown",
   "id": "educational-skirt",
   "metadata": {},
   "source": [
    "编写程序训练聊天机器人："
   ]
  },
  {
   "cell_type": "code",
   "execution_count": null,
   "id": "demonstrated-truth",
   "metadata": {},
   "outputs": [],
   "source": []
  },
  {
   "cell_type": "markdown",
   "id": "frank-marijuana",
   "metadata": {},
   "source": [
    "## 拓展\n",
    "发挥自己的想象，进一步拓展聊天机器人项目，并将作品分享到[【交互计算】聊天机器人](https://create.codelab.club/studios/425)工作室，看看工作室中其他人创作的作品。\n",
    "1. 你能训练两个聊天机器人并让他们对话吗？\n",
    "\n",
    "2. 创建中文语料库，训练一个中文聊天机器人，你还可以尝试使用语音识别和语音合成拓展实现语音聊天。"
   ]
  }
 ],
 "metadata": {
  "kernelspec": {
   "display_name": "Python 3",
   "language": "python",
   "name": "python3"
  },
  "language_info": {
   "codemirror_mode": {
    "name": "ipython",
    "version": 3
   },
   "file_extension": ".py",
   "mimetype": "text/x-python",
   "name": "python",
   "nbconvert_exporter": "python",
   "pygments_lexer": "ipython3",
   "version": "3.8.7"
  }
 },
 "nbformat": 4,
 "nbformat_minor": 5
}
