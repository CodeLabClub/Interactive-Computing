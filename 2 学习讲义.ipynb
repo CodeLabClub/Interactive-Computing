{
 "cells": [
  {
   "cell_type": "markdown",
   "id": "horizontal-median",
   "metadata": {},
   "source": [
    "# 2. 数学计算\n",
    "## 学习目标\n",
    "- 使用 Python 进行数学计算\n",
    "- 认识数字类型、运算符\n",
    "- 了解数学计算的 math 库"
   ]
  },
  {
   "cell_type": "markdown",
   "id": "answering-norman",
   "metadata": {},
   "source": [
    "## 编程准备\n",
    "打开[课程视频](https://www.bilibili.com/video/BV1SN411Z7ek?p=3)和 [Scratch 创作](https://create.codelab.club/projects/editor/)页面，登陆自己的 CodeLab 账号，这样 Scratch 作品可以及时保存。\n",
    "\n",
    "#### 编程相关单词\n",
    "- display：[dɪˈspleɪ]，显示、展览\n",
    "- integer：[ˈɪntɪdʒər]，整数\n",
    "- float：[floʊt]，浮点数、漂浮\n",
    "- math：[mæθ]，数学"
   ]
  },
  {
   "cell_type": "markdown",
   "id": "satisfied-evidence",
   "metadata": {},
   "source": [
    "## 简单计算\n",
    "观看视频[数学计算](https://www.bilibili.com/video/BV1SN411Z7ek?p=3)，运行以下单元格，了解 Python 插件的使用。"
   ]
  },
  {
   "cell_type": "code",
   "execution_count": null,
   "id": "equal-celtic",
   "metadata": {},
   "outputs": [],
   "source": [
    "# 【交互计算】计算测试 https://create.codelab.club/projects/9653/editor/ \n",
    "from IPython.display import IFrame\n",
    "\n",
    "IFrame('https://create.codelab.club/projects/9653/editor/', width=\"100%\", height=500)"
   ]
  },
  {
   "cell_type": "markdown",
   "id": "growing-display",
   "metadata": {},
   "source": [
    "## 混合运算\n",
    "打开 [Scratch 创作](https://create.codelab.club/projects/editor/)页面，制作一个支持混合运算的项目。了解 Python 中的数学运算符和数字类型，运行以下代码，看看计算结果和你预想的是否一致？"
   ]
  },
  {
   "cell_type": "code",
   "execution_count": null,
   "id": "loved-harassment",
   "metadata": {},
   "outputs": [],
   "source": [
    "8 % 5"
   ]
  },
  {
   "cell_type": "code",
   "execution_count": null,
   "id": "confirmed-scoop",
   "metadata": {},
   "outputs": [],
   "source": [
    "8 // 5"
   ]
  },
  {
   "cell_type": "markdown",
   "id": "consecutive-gabriel",
   "metadata": {},
   "source": [
    "## 进阶-math 库\n",
    "了解 math 库中常见的数学计算函数，并猜测以下代码块的运行结果。"
   ]
  },
  {
   "cell_type": "code",
   "execution_count": null,
   "id": "typical-hazard",
   "metadata": {},
   "outputs": [],
   "source": [
    "import math\n",
    "\n",
    "math.pow(5, 3)"
   ]
  },
  {
   "cell_type": "markdown",
   "id": "confidential-hampton",
   "metadata": {},
   "source": [
    "## 拓展\n",
    "1. 计算 1x2x3...x10 的值。\n",
    "\n",
    "2. 计算 math.sin(5) ** 2 + math.cos(5) ** 2 的结果。"
   ]
  }
 ],
 "metadata": {
  "kernelspec": {
   "display_name": "Python 3",
   "language": "python",
   "name": "python3"
  },
  "language_info": {
   "codemirror_mode": {
    "name": "ipython",
    "version": 3
   },
   "file_extension": ".py",
   "mimetype": "text/x-python",
   "name": "python",
   "nbconvert_exporter": "python",
   "pygments_lexer": "ipython3",
   "version": "3.8.7"
  }
 },
 "nbformat": 4,
 "nbformat_minor": 5
}
