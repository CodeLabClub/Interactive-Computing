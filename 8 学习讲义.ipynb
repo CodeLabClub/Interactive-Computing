{
 "cells": [
  {
   "cell_type": "markdown",
   "id": "south-confidence",
   "metadata": {},
   "source": [
    "# 8. 游戏设计\n",
    "## 学习目标\n",
    "- 编程知识：文件读写、文件路径\n",
    "- 主题创作：记录游戏数据，制作排行榜\n",
    "- 在创作中实践“试验和迭代”、“测试和调试”"
   ]
  },
  {
   "cell_type": "markdown",
   "id": "phantom-elements",
   "metadata": {},
   "source": [
    "## 编程准备\n",
    "打开[课程视频](https://www.bilibili.com/video/BV1SN411Z7ek?p=14)和 [Scratch 创作](https://create.codelab.club/projects/editor/)页面，登陆自己的 CodeLab 账号，这样 Scratch 作品可以及时保存。\n",
    "\n",
    "#### 编程相关单词\n",
    "- append：[əˈpend]，追加、附加\n",
    "- strip：[strɪp]，除去、剥除\n",
    "- sort：[sɔːrt]，排序、分类\n",
    "- split：[splɪt]，分离、裂开\n",
    "- reverse：[rɪˈvɜːrs]，逆向、相反"
   ]
  },
  {
   "cell_type": "markdown",
   "id": "australian-vegetation",
   "metadata": {},
   "source": [
    "## 记录游戏数据\n",
    "先体验[火柴人平台游戏](https://create.codelab.club/projects/5975/)，如果不了解如何设计游戏，可以先学习【创意编程】课程的[第 7 课](https://creative-coding.codelab.club/07-you-xi-she-ji-shang)和[第 8 课](https://creative-coding.codelab.club/08-you-xi-she-ji-xia)。"
   ]
  },
  {
   "cell_type": "markdown",
   "id": "rotary-accent",
   "metadata": {},
   "source": [
    "观看视频[游戏设计 1](https://www.bilibili.com/video/BV1SN411Z7ek?p=14)，了解文件的读取、写入以及文件路径。打开[【交互计算】火柴人平台游戏](https://create.codelab.club/projects/9476/editor/)，编写 Python 程序记录游戏数据。"
   ]
  },
  {
   "cell_type": "code",
   "execution_count": null,
   "id": "antique-updating",
   "metadata": {},
   "outputs": [],
   "source": [
    "from codelab_adapter_client.message import send_message, receive_message\n",
    "\n"
   ]
  },
  {
   "cell_type": "markdown",
   "id": "friendly-repository",
   "metadata": {},
   "source": [
    "## 制作排行榜\n",
    "先体验[火柴人跑酷](https://create.codelab.club/projects/6442/)游戏，了解游戏的玩法。观看视频[游戏设计 2](https://www.bilibili.com/video/BV1SN411Z7ek?p=15)，参考以下示例程序，编写程序制作游戏得分排行榜。"
   ]
  },
  {
   "cell_type": "code",
   "execution_count": null,
   "id": "understood-gazette",
   "metadata": {},
   "outputs": [],
   "source": [
    "# 获取当前时间\n",
    "from datetime import datetime\n",
    "\n",
    "now = datetime.now()\n",
    "# 按年月日时分秒的格式记录当前时间\n",
    "current_time = now.strftime(\"%Y-%m-%d %H:%M:%S\")\n",
    "print(current_time)"
   ]
  },
  {
   "cell_type": "code",
   "execution_count": null,
   "id": "medical-pledge",
   "metadata": {},
   "outputs": [],
   "source": [
    "# 列表排序\n",
    "scores = [22, 48, 36, 70, 82]\n",
    "# 从小到大排序\n",
    "scores.sort()\n",
    "print(scores)\n",
    "# 从大到小排序\n",
    "scores.sort(reverse=True)\n",
    "print(scores)"
   ]
  },
  {
   "cell_type": "code",
   "execution_count": null,
   "id": "artistic-government",
   "metadata": {},
   "outputs": [],
   "source": [
    "# 读取文件并按得分排序\n",
    "scores = []\n",
    "with open('ranking.txt', 'r') as f:\n",
    "    for line in f.readlines():\n",
    "        # strip() 可以去掉换行符，append() 可以在列表末尾添加一个新元素\n",
    "        scores.append(line.strip()) \n",
    "print(scores)\n",
    "# 按得分从高到低排序\n",
    "scores.sort(key=lambda score: int(score.split(',')[0]), reverse=True)\n",
    "print('=' * 60)\n",
    "print(scores)"
   ]
  },
  {
   "cell_type": "markdown",
   "id": "graduate-mozambique",
   "metadata": {},
   "source": [
    "以上程序使用了匿名函数，这里不要求掌握。如果想了解更多匿名函数的知识，可以点击[这里](https://python3-cookbook.readthedocs.io/zh_CN/latest/c07/p06_define_anonymous_or_inline_functions.html#id1)。"
   ]
  },
  {
   "cell_type": "code",
   "execution_count": null,
   "id": "controversial-reducing",
   "metadata": {},
   "outputs": [],
   "source": [
    "from codelab_adapter_client.message import send_message, receive_message\n",
    "\n"
   ]
  },
  {
   "cell_type": "markdown",
   "id": "floating-netscape",
   "metadata": {},
   "source": [
    "### 拓展\n",
    "发挥自己的想象，进一步拓展游戏设计的项目，并将作品分享到[【交互计算】游戏设计](https://create.codelab.club/studios/424/)工作室，看看工作室中其他人创作的作品。\n",
    "1. 改编[【交互计算】火柴人平台游戏](https://create.codelab.club/projects/9476/)，将火柴人的生命值设为 1，游戏失败时自动记录游戏进度，游戏再次开始后从记录的进度处开始游戏。\n",
    "\n",
    "2. 改编 [CodeLab 社区](https://create.codelab.club/explore/projects/all)中的一个游戏项目，记录游戏进度或者制作得分排行榜。"
   ]
  }
 ],
 "metadata": {
  "kernelspec": {
   "display_name": "Python 3",
   "language": "python",
   "name": "python3"
  },
  "language_info": {
   "codemirror_mode": {
    "name": "ipython",
    "version": 3
   },
   "file_extension": ".py",
   "mimetype": "text/x-python",
   "name": "python",
   "nbconvert_exporter": "python",
   "pygments_lexer": "ipython3",
   "version": "3.8.7"
  }
 },
 "nbformat": 4,
 "nbformat_minor": 5
}
