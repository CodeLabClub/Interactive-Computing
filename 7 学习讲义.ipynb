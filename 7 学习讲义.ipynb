{
 "cells": [
  {
   "cell_type": "markdown",
   "id": "modern-chaos",
   "metadata": {},
   "source": [
    "# 7. 用户界面\n",
    "## 学习目标\n",
    "- 编程知识：了解文件路径和开放 API\n",
    "- 主题创作：设计个性化的用户界面\n",
    "- 在创作中实践“试验和迭代”、“测试和调试”"
   ]
  },
  {
   "cell_type": "markdown",
   "id": "supposed-counter",
   "metadata": {},
   "source": [
    "## 编程准备\n",
    "打开[课程视频](https://www.bilibili.com/video/BV1SN411Z7ek?p=12)和 [Scratch 创作](https://create.codelab.club/projects/editor/)页面，登陆自己的 CodeLab 账号，这样 Scratch 作品可以及时保存。\n",
    "\n",
    "#### 编程相关单词\n",
    "- UI：[ˌjuː ˈaɪ]，用户界面（User Interface）\n",
    "- GUI：[ˌdʒiː juː ˈaɪ]，图形用户界面（Graphical User Interface）\n",
    "- API：[ˌeɪ piː ˈaɪ]，应用程序接口（Application Programming Interface）\n",
    "- content：[kənˈtent]，内容、目录"
   ]
  },
  {
   "cell_type": "markdown",
   "id": "going-librarian",
   "metadata": {},
   "source": [
    "## 个性化计算机\n",
    "先打开[网址导航](https://www.moulem.com/j.html)，体验图形用户界面。然后观看视频[用户界面 1](https://www.bilibili.com/video/BV1SN411Z7ek?p=12)，设计个性化的用户界面。"
   ]
  },
  {
   "cell_type": "code",
   "execution_count": null,
   "id": "middle-chapter",
   "metadata": {},
   "outputs": [],
   "source": [
    "from codelab_adapter_client.message import receive_message\n",
    "from codelab_adapter_client.utils import open_path\n",
    "\n"
   ]
  },
  {
   "cell_type": "markdown",
   "id": "reasonable-diagram",
   "metadata": {},
   "source": [
    "你同样可以使用 open_path() 来打开电脑上的文件，只需要知道文件的路径，编程测试一下吧。"
   ]
  },
  {
   "cell_type": "code",
   "execution_count": null,
   "id": "protecting-grammar",
   "metadata": {},
   "outputs": [],
   "source": [
    "from codelab_adapter_client.utils import open_path\n",
    "\n"
   ]
  },
  {
   "cell_type": "markdown",
   "id": "improving-adapter",
   "metadata": {},
   "source": [
    "## 开放 API\n",
    "观看视频[用户界面 2](https://www.bilibili.com/video/BV1SN411Z7ek?p=13)，打开文档“7 用户界面”，体验开放 API。"
   ]
  },
  {
   "cell_type": "markdown",
   "id": "special-oxide",
   "metadata": {},
   "source": [
    "## 拓展\n",
    "发挥自己的想象，进一步拓展用户界面的项目，并将作品分享到[【交互计算】用户界面](https://create.codelab.club/studios/423/)工作室，看看工作室中其他人创作的作品。\n",
    "1. 根据自己的想法，设计一个个性化的用户界面，比如支持语音输入进行搜索。\n",
    "\n",
    "2. 设计一键打开多个软件或网页的功能。"
   ]
  }
 ],
 "metadata": {
  "kernelspec": {
   "display_name": "Python 3",
   "language": "python",
   "name": "python3"
  },
  "language_info": {
   "codemirror_mode": {
    "name": "ipython",
    "version": 3
   },
   "file_extension": ".py",
   "mimetype": "text/x-python",
   "name": "python",
   "nbconvert_exporter": "python",
   "pygments_lexer": "ipython3",
   "version": "3.8.7"
  }
 },
 "nbformat": 4,
 "nbformat_minor": 5
}
